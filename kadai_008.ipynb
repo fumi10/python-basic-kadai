{
  "nbformat": 4,
  "nbformat_minor": 0,
  "metadata": {
    "colab": {
      "provenance": []
    },
    "kernelspec": {
      "name": "python3",
      "display_name": "Python 3"
    },
    "language_info": {
      "name": "python"
    }
  },
  "cells": [
    {
      "cell_type": "code",
      "source": [],
      "metadata": {
        "id": "4eT6HVqPpetU"
      },
      "execution_count": null,
      "outputs": []
    },
    {
      "cell_type": "code",
      "execution_count": 101,
      "metadata": {
        "colab": {
          "base_uri": "https://localhost:8080/"
        },
        "id": "2sSXrCb1joXO",
        "outputId": "3b49d9a7-b002-4a3a-fcc1-e357c6b3cc44"
      },
      "outputs": [
        {
          "output_type": "stream",
          "name": "stdout",
          "text": [
            "15\n",
            "FizzBuzz\n"
          ]
        }
      ],
      "source": [
        "import random\n",
        "\n",
        "var = random.randint(1, 15)\n",
        "\n",
        "print(var)\n",
        "\n",
        "if var %3 == 0 and var %5 == 0:\n",
        "    print(\"FizzBuzz\")\n",
        "elif var %3 == 0:\n",
        "    print(\"Fizz\")\n",
        "elif var %5 == 0:\n",
        "    print(\"Buzz\")\n",
        "else:\n",
        "    print(var)"
      ]
    }
  ]
}
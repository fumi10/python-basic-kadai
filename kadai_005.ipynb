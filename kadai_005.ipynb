{
  "nbformat": 4,
  "nbformat_minor": 0,
  "metadata": {
    "colab": {
      "provenance": []
    },
    "kernelspec": {
      "name": "python3",
      "display_name": "Python 3"
    },
    "language_info": {
      "name": "python"
    }
  },
  "cells": [
    {
      "cell_type": "code",
      "execution_count": 2,
      "metadata": {
        "colab": {
          "base_uri": "https://localhost:8080/"
        },
        "id": "jzrdu4jAfk5p",
        "outputId": "86d3e98e-63ca-47bd-807f-3cc0068a8d72"
      },
      "outputs": [
        {
          "output_type": "stream",
          "name": "stdout",
          "text": [
            "75.0cm²\n"
          ]
        }
      ],
      "source": [
        "jyouhen = 10\n",
        "kahen = 20\n",
        "takasa = 5\n",
        "\n",
        "menseki = (jyouhen + kahen) * takasa / 2\n",
        "\n",
        "print(f\"{menseki}cm²\")"
      ]
    },
    {
      "cell_type": "code",
      "source": [],
      "metadata": {
        "id": "myI90z1KhqQD"
      },
      "execution_count": null,
      "outputs": []
    }
  ]
}
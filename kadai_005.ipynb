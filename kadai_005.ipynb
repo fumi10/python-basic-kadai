{
  "nbformat": 4,
  "nbformat_minor": 0,
  "metadata": {
    "colab": {
      "provenance": []
    },
    "kernelspec": {
      "name": "python3",
      "display_name": "Python 3"
    },
    "language_info": {
      "name": "python"
    }
  },
  "cells": [
    {
      "cell_type": "code",
      "execution_count": 4,
      "metadata": {
        "colab": {
          "base_uri": "https://localhost:8080/"
        },
        "id": "jzrdu4jAfk5p",
        "outputId": "9f6f2214-2ba5-4d0c-ade7-f8da1f8bc836"
      },
      "outputs": [
        {
          "output_type": "stream",
          "name": "stdout",
          "text": [
            "75.0cm²\n"
          ]
        }
      ],
      "source": [
        "jyouhen = 10\n",
        "kahen = 20\n",
        "takasa = 5\n",
        "\n",
        "menseki = (jyouhen + kahen) * takasa / 2\n",
        "\n",
        "print(str(menseki) + \"cm²\")"
      ]
    },
    {
      "cell_type": "code",
      "source": [],
      "metadata": {
        "id": "myI90z1KhqQD"
      },
      "execution_count": null,
      "outputs": []
    }
  ]
}
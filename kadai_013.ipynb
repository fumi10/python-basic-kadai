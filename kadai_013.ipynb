{
  "nbformat": 4,
  "nbformat_minor": 0,
  "metadata": {
    "colab": {
      "provenance": []
    },
    "kernelspec": {
      "name": "python3",
      "display_name": "Python 3"
    },
    "language_info": {
      "name": "python"
    }
  },
  "cells": [
    {
      "cell_type": "code",
      "execution_count": 7,
      "metadata": {
        "colab": {
          "base_uri": "https://localhost:8080/"
        },
        "id": "HHjjVL2FEmxt",
        "outputId": "9b1c1a73-41b3-4de0-eabf-bbd045dfbcf5"
      },
      "outputs": [
        {
          "output_type": "stream",
          "name": "stdout",
          "text": [
            "121.00000000000001\n"
          ]
        }
      ],
      "source": [
        "def calculate_priceIncludingTax(price, tax):\n",
        "    total = price * (1 + tax / 100)\n",
        "    return total\n",
        "\n",
        "result = calculate_priceIncludingTax(110, 10)\n",
        "print(result)"
      ]
    },
    {
      "cell_type": "code",
      "source": [],
      "metadata": {
        "id": "FBH_AdJRIzr-"
      },
      "execution_count": null,
      "outputs": []
    }
  ]
}
{
  "nbformat": 4,
  "nbformat_minor": 0,
  "metadata": {
    "colab": {
      "provenance": []
    },
    "kernelspec": {
      "name": "python3",
      "display_name": "Python 3"
    },
    "language_info": {
      "name": "python"
    }
  },
  "cells": [
    {
      "cell_type": "code",
      "execution_count": 3,
      "metadata": {
        "colab": {
          "base_uri": "https://localhost:8080/"
        },
        "id": "1QAzGN42pRPk",
        "outputId": "36c5cd9f-a74d-4269-a86e-2b0e146fc658"
      },
      "outputs": [
        {
          "output_type": "stream",
          "name": "stdout",
          "text": [
            "佐野さんは大人です\n",
            "佐藤さんは大人ではないです\n",
            "鈴木さんは大人です\n",
            "高橋さんは大人です\n",
            "平井さんは大人ではないです\n"
          ]
        }
      ],
      "source": [
        "class Human:\n",
        "    def __init__(self, name, age):\n",
        "        self.name = name\n",
        "        self.age = age\n",
        "\n",
        "    def check_adult(self):\n",
        "        if self.age >= 20:\n",
        "            print(f\"{self.name}さんは大人です\")\n",
        "        else:\n",
        "            print(f\"{self.name}さんは大人ではないです\")\n",
        "\n",
        "humans = [\n",
        "    Human(\"佐野\", 32),\n",
        "    Human(\"佐藤\", 19),\n",
        "    Human(\"鈴木\", 22),\n",
        "    Human(\"高橋\", 28),\n",
        "    Human(\"平井\", 18)\n",
        "]\n",
        "\n",
        "for human in humans:\n",
        "    human.check_adult()"
      ]
    }
  ]
}